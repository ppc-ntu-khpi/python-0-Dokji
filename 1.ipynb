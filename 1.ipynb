{
  "nbformat": 4,
  "nbformat_minor": 0,
  "metadata": {
    "colab": {
      "provenance": [],
      "collapsed_sections": []
    },
    "kernelspec": {
      "name": "python3",
      "display_name": "Python 3"
    },
    "language_info": {
      "name": "python"
    }
  },
  "cells": [
    {
      "cell_type": "code",
      "execution_count": 1,
      "metadata": {
        "colab": {
          "base_uri": "https://localhost:8080/"
        },
        "id": "DWuEdaVH2ADA",
        "outputId": "74152008-8d4b-47bd-ab41-e2a16ff8c205"
      },
      "outputs": [
        {
          "output_type": "stream",
          "name": "stdout",
          "text": [
            "Введіть перше число: 606\n",
            "Введіть друге число: 60\n",
            "Сума чисел:  666\n"
          ]
        }
      ],
      "source": [
        "first_number = int(input('Введіть перше число: ')) ;\n",
        "second_number = int(input('Введіть друге число: ')) ;\n",
        "print(\"Сума чисел: \", first_number + second_number)"
      ]
    },
    {
      "cell_type": "code",
      "source": [
        "first_number = int(input('Введіть перше число: ')) ;\n",
        "second_number = int(input('Введіть друге число: ')) ;\n",
        "print(\"Різниця чисел: \", first_number - second_number)\n",
        "print(\"Добуток чисел: \", first_number * second_number)\n",
        "print(\"Частка чисел: \", first_number / second_number)"
      ],
      "metadata": {
        "colab": {
          "base_uri": "https://localhost:8080/"
        },
        "id": "o96bUz5l2Eh_",
        "outputId": "b4035037-170e-45a4-8e5e-4da5ce7e8078"
      },
      "execution_count": 2,
      "outputs": [
        {
          "output_type": "stream",
          "name": "stdout",
          "text": [
            "Введіть перше число: 11\n",
            "Введіть друге число: 6\n",
            "Різниця чисел:  5\n",
            "Добуток чисел:  66\n",
            "Частка чисел:  1.8333333333333333\n"
          ]
        }
      ]
    },
    {
      "cell_type": "code",
      "source": [
        "!pip install wolframalpha\n",
        "app_id = '2ARWPW-8GAHYH5HQH'\n",
        "from wolframalpha import Client\n",
        "client = Client(app_id)\n",
        "res = client.query('distance between Poltava and Kiev')\n",
        "res = next(res.results).text\n",
        "correct = float(res.split(' ')[0])\n",
        "if distMiles==correct:\n",
        "  print('Все правильно! Ви молодець!')\n",
        "else:\n",
        "  print(f\"Щось не те - має вийти {correct} миль, а у Вас вийшло {distMiles}!\")"
      ],
      "metadata": {
        "colab": {
          "base_uri": "https://localhost:8080/"
        },
        "id": "JgtP_3t32c7z",
        "outputId": "9e754a9e-4701-4ca1-c57c-6d9d37cec8c8"
      },
      "execution_count": 6,
      "outputs": [
        {
          "output_type": "stream",
          "name": "stdout",
          "text": [
            "Looking in indexes: https://pypi.org/simple, https://us-python.pkg.dev/colab-wheels/public/simple/\n",
            "Collecting wolframalpha\n",
            "  Using cached wolframalpha-5.0.0-py3-none-any.whl (7.5 kB)\n",
            "Requirement already satisfied: more-itertools in /usr/local/lib/python3.7/dist-packages (from wolframalpha) (8.14.0)\n",
            "Collecting jaraco.context\n",
            "  Using cached jaraco.context-4.1.2-py3-none-any.whl (4.7 kB)\n",
            "Collecting xmltodict\n",
            "  Using cached xmltodict-0.13.0-py2.py3-none-any.whl (10.0 kB)\n",
            "Installing collected packages: xmltodict, jaraco.context, wolframalpha\n",
            "Successfully installed jaraco.context-4.1.2 wolframalpha-5.0.0 xmltodict-0.13.0\n",
            "Все правильно! Ви молодець!\n"
          ]
        }
      ]
    },
    {
      "cell_type": "code",
      "source": [
        "distMiles = 0\n",
        "distMiles = round(305.3 / 1.60934, 1)\n",
        "print(distMiles, \"miles\")"
      ],
      "metadata": {
        "colab": {
          "base_uri": "https://localhost:8080/"
        },
        "id": "QumnnE9R3JuJ",
        "outputId": "b09374a5-4584-4b1b-f832-bd2acd9fedf3"
      },
      "execution_count": 7,
      "outputs": [
        {
          "output_type": "stream",
          "name": "stdout",
          "text": [
            "189.7 miles\n"
          ]
        }
      ]
    },
    {
      "cell_type": "code",
      "source": [],
      "metadata": {
        "id": "TWHn-TPO3f6J"
      },
      "execution_count": null,
      "outputs": []
    }
  ]
}