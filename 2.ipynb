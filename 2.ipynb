{
  "nbformat": 4,
  "nbformat_minor": 0,
  "metadata": {
    "colab": {
      "provenance": [],
      "collapsed_sections": []
    },
    "kernelspec": {
      "name": "python3",
      "display_name": "Python 3"
    },
    "language_info": {
      "name": "python"
    }
  },
  "cells": [
    {
      "cell_type": "code",
      "execution_count": 1,
      "metadata": {
        "colab": {
          "base_uri": "https://localhost:8080/"
        },
        "id": "miGaAPdW3-X9",
        "outputId": "c77f3451-7326-448f-d29c-568d4807312d"
      },
      "outputs": [
        {
          "output_type": "stream",
          "name": "stdout",
          "text": [
            "Введіть площу кола: 35\n",
            "Радіус дорівнює  3.338 см\n"
          ]
        }
      ],
      "source": [
        "from math import sqrt,pi\n",
        "S = float(input('Введіть площу кола: '))\n",
        "r = sqrt(S/pi)\n",
        "print ('Радіус дорівнює %6.3f см' %r)"
      ]
    },
    {
      "cell_type": "code",
      "source": [
        "from math import sqrt,pi\n",
        "R = float(input('Введіть радіус кулі/сфери: '))\n",
        "S = 4*pi*R**2\n",
        "V = 4/3* pi*R**3\n",
        "print ('Площа сфери =', S, \"см^2\")\n",
        "print ('Об!єм кулі =', V, \"см^3\")"
      ],
      "metadata": {
        "colab": {
          "base_uri": "https://localhost:8080/"
        },
        "id": "JAoE5M-N4FOC",
        "outputId": "152a5ef4-81ba-4a75-8a7a-f2ada8f234cb"
      },
      "execution_count": 6,
      "outputs": [
        {
          "output_type": "stream",
          "name": "stdout",
          "text": [
            "Введіть радіус кулі/сфери: 10\n",
            "Площа сфери = 1256.6370614359173 см^2\n",
            "Об!єм кулі = 4188.790204786391 см^3\n"
          ]
        }
      ]
    },
    {
      "cell_type": "code",
      "source": [
        "F = float(input('Введіть температуру за Фаренгейтом: '))\n",
        "C = (F-32)*0.5556\n",
        "F = C*1.8+32\n",
        "print('C =',C,'Цельсія')\n",
        "print('F =',F,'Фаренгейт')"
      ],
      "metadata": {
        "colab": {
          "base_uri": "https://localhost:8080/"
        },
        "id": "v7Z31KWn5CZC",
        "outputId": "a782495b-f2b3-433a-ebf4-6d12df7aeba9"
      },
      "execution_count": 7,
      "outputs": [
        {
          "output_type": "stream",
          "name": "stdout",
          "text": [
            "Введіть температуру за Фаренгейтом: 60\n",
            "C = 15.556799999999999 Цельсія\n",
            "F = 60.00224 Фаренгейт\n"
          ]
        }
      ]
    }
  ]
}